{
 "cells": [
  {
   "cell_type": "markdown",
   "metadata": {},
   "source": [
    "# Quality Estimation baseline models: Evaluation on Translation Validation Data\n",
    "\n",
    "**Author:** Jessica Silva\n",
    "\n",
    "**Keywords:** Quality Estimation; Machine Translation\n",
    "\n",
    "**Date:** 25/11/2020"
   ]
  },
  {
   "cell_type": "markdown",
   "metadata": {},
   "source": [
    "### Goals"
   ]
  },
  {
   "cell_type": "markdown",
   "metadata": {},
   "source": [
    "- Explore the Translation Validation data available on DC Platform\n",
    "- Evaluate our baseline Quality Estimation models\n",
    "- Compare and report results in the testset"
   ]
  },
  {
   "cell_type": "markdown",
   "metadata": {},
   "source": [
    "### Main Outcomes (on going)"
   ]
  },
  {
   "cell_type": "markdown",
   "metadata": {},
   "source": [
    "**Imports**"
   ]
  },
  {
   "cell_type": "code",
   "execution_count": 1089,
   "metadata": {},
   "outputs": [],
   "source": [
    "import os\n",
    "import torch\n",
    "import pandas as pd\n",
    "import numpy as np\n",
    "import matplotlib.pyplot as plt\n",
    "from numpy import sqrt\n",
    "from pathlib import Path\n",
    "from sentence_transformers import SentenceTransformer, util, evaluation, LoggingHandler\n",
    "from sklearn import metrics"
   ]
  },
  {
   "cell_type": "markdown",
   "metadata": {},
   "source": [
    "**Functions**"
   ]
  },
  {
   "cell_type": "code",
   "execution_count": 1090,
   "metadata": {},
   "outputs": [],
   "source": [
    "def get_class(score, threshold):\n",
    "    if score>threshold:\n",
    "        return True\n",
    "    else:\n",
    "        return False"
   ]
  },
  {
   "cell_type": "markdown",
   "metadata": {},
   "source": [
    "**Parameters**"
   ]
  },
  {
   "cell_type": "code",
   "execution_count": 1091,
   "metadata": {},
   "outputs": [],
   "source": [
    "project_dir = Path(\"../\")\n",
    "path_files = project_dir.joinpath('data', 'processed', 'validation')"
   ]
  },
  {
   "cell_type": "markdown",
   "metadata": {},
   "source": [
    "**Import the baseline model v1**"
   ]
  },
  {
   "cell_type": "code",
   "execution_count": 1092,
   "metadata": {},
   "outputs": [],
   "source": [
    "model_baseline_v1 = SentenceTransformer('distiluse-base-multilingual-cased-v1')"
   ]
  },
  {
   "cell_type": "markdown",
   "metadata": {},
   "source": [
    "**Import the baseline model v2**"
   ]
  },
  {
   "cell_type": "code",
   "execution_count": 1093,
   "metadata": {},
   "outputs": [],
   "source": [
    "model_baseline_v2 = SentenceTransformer('distiluse-base-multilingual-cased-v2')"
   ]
  },
  {
   "cell_type": "markdown",
   "metadata": {},
   "source": [
    "**Custom Model**"
   ]
  },
  {
   "cell_type": "code",
   "execution_count": 1094,
   "metadata": {},
   "outputs": [],
   "source": [
    "model_custom = SentenceTransformer('../models/all_languages/2021-02-11_01-00-47-0.99split/model')"
   ]
  },
  {
   "cell_type": "markdown",
   "metadata": {},
   "source": [
    "**Load the test set**"
   ]
  },
  {
   "cell_type": "code",
   "execution_count": 1095,
   "metadata": {},
   "outputs": [],
   "source": [
    "test = pd.read_csv(os.path.join(path_files, 'jobs-test-1/test.csv'))"
   ]
  },
  {
   "cell_type": "code",
   "execution_count": 1096,
   "metadata": {},
   "outputs": [
    {
     "data": {
      "text/html": [
       "<div>\n",
       "<style scoped>\n",
       "    .dataframe tbody tr th:only-of-type {\n",
       "        vertical-align: middle;\n",
       "    }\n",
       "\n",
       "    .dataframe tbody tr th {\n",
       "        vertical-align: top;\n",
       "    }\n",
       "\n",
       "    .dataframe thead th {\n",
       "        text-align: right;\n",
       "    }\n",
       "</style>\n",
       "<table border=\"1\" class=\"dataframe\">\n",
       "  <thead>\n",
       "    <tr style=\"text-align: right;\">\n",
       "      <th></th>\n",
       "      <th>language_pair</th>\n",
       "      <th>source</th>\n",
       "      <th>target</th>\n",
       "      <th>accuracy</th>\n",
       "      <th>jobid</th>\n",
       "      <th>type</th>\n",
       "    </tr>\n",
       "  </thead>\n",
       "  <tbody>\n",
       "    <tr>\n",
       "      <th>0</th>\n",
       "      <td>ru-en</td>\n",
       "      <td>Наш автосервис находится на пересечении МКАД и...</td>\n",
       "      <td>Our car service is at the crossroad of MKAD an...</td>\n",
       "      <td>True</td>\n",
       "      <td>4934</td>\n",
       "      <td>test</td>\n",
       "    </tr>\n",
       "    <tr>\n",
       "      <th>1</th>\n",
       "      <td>ru-en</td>\n",
       "      <td>МЭТТ ДЖЕЙКОБСОН: «Когда городские ребята перес...</td>\n",
       "      <td>MATT JACOBSON: «Urban guys realy go wild when ...</td>\n",
       "      <td>True</td>\n",
       "      <td>4934</td>\n",
       "      <td>test</td>\n",
       "    </tr>\n",
       "    <tr>\n",
       "      <th>2</th>\n",
       "      <td>ru-en</td>\n",
       "      <td>Накопленный купонный доход (в валюте):</td>\n",
       "      <td>Accumulated coupon income (in currency):</td>\n",
       "      <td>True</td>\n",
       "      <td>4934</td>\n",
       "      <td>test</td>\n",
       "    </tr>\n",
       "    <tr>\n",
       "      <th>3</th>\n",
       "      <td>ru-en</td>\n",
       "      <td>Накопленный купонный доход (в валюте):</td>\n",
       "      <td>Accumulated coupon income (in currency):</td>\n",
       "      <td>True</td>\n",
       "      <td>4934</td>\n",
       "      <td>test</td>\n",
       "    </tr>\n",
       "    <tr>\n",
       "      <th>4</th>\n",
       "      <td>ru-en</td>\n",
       "      <td>Мои любимые музыкальные исполнители: Стас Миха...</td>\n",
       "      <td>My favorite performers are Stas Mikhailov, Iri...</td>\n",
       "      <td>True</td>\n",
       "      <td>4934</td>\n",
       "      <td>test</td>\n",
       "    </tr>\n",
       "    <tr>\n",
       "      <th>...</th>\n",
       "      <td>...</td>\n",
       "      <td>...</td>\n",
       "      <td>...</td>\n",
       "      <td>...</td>\n",
       "      <td>...</td>\n",
       "      <td>...</td>\n",
       "    </tr>\n",
       "    <tr>\n",
       "      <th>6663</th>\n",
       "      <td>jp-zh</td>\n",
       "      <td>通信業者 関係あります？ それ</td>\n",
       "      <td>这跟通讯部门有什么关系啊？</td>\n",
       "      <td>True</td>\n",
       "      <td>6741</td>\n",
       "      <td>test</td>\n",
       "    </tr>\n",
       "    <tr>\n",
       "      <th>6664</th>\n",
       "      <td>jp-zh</td>\n",
       "      <td>GANTZ 良かったです！！</td>\n",
       "      <td>GANTZ很好看！！</td>\n",
       "      <td>True</td>\n",
       "      <td>6741</td>\n",
       "      <td>test</td>\n",
       "    </tr>\n",
       "    <tr>\n",
       "      <th>6665</th>\n",
       "      <td>jp-zh</td>\n",
       "      <td>環境は どう？</td>\n",
       "      <td>环境怎么样？</td>\n",
       "      <td>True</td>\n",
       "      <td>6741</td>\n",
       "      <td>test</td>\n",
       "    </tr>\n",
       "    <tr>\n",
       "      <th>6666</th>\n",
       "      <td>jp-zh</td>\n",
       "      <td>なるほどね。</td>\n",
       "      <td>确实是这样啊。</td>\n",
       "      <td>True</td>\n",
       "      <td>6741</td>\n",
       "      <td>test</td>\n",
       "    </tr>\n",
       "    <tr>\n",
       "      <th>6667</th>\n",
       "      <td>jp-zh</td>\n",
       "      <td>絶対 若い 男ですよ？</td>\n",
       "      <td>绝对是年轻的男人吧？</td>\n",
       "      <td>True</td>\n",
       "      <td>6741</td>\n",
       "      <td>test</td>\n",
       "    </tr>\n",
       "  </tbody>\n",
       "</table>\n",
       "<p>6668 rows × 6 columns</p>\n",
       "</div>"
      ],
      "text/plain": [
       "     language_pair                                             source  \\\n",
       "0            ru-en  Наш автосервис находится на пересечении МКАД и...   \n",
       "1            ru-en  МЭТТ ДЖЕЙКОБСОН: «Когда городские ребята перес...   \n",
       "2            ru-en             Накопленный купонный доход (в валюте):   \n",
       "3            ru-en             Накопленный купонный доход (в валюте):   \n",
       "4            ru-en  Мои любимые музыкальные исполнители: Стас Миха...   \n",
       "...            ...                                                ...   \n",
       "6663         jp-zh                                    通信業者 関係あります？ それ   \n",
       "6664         jp-zh                                     GANTZ 良かったです！！   \n",
       "6665         jp-zh                                            環境は どう？   \n",
       "6666         jp-zh                                             なるほどね。   \n",
       "6667         jp-zh                                        絶対 若い 男ですよ？   \n",
       "\n",
       "                                                 target  accuracy  jobid  type  \n",
       "0     Our car service is at the crossroad of MKAD an...      True   4934  test  \n",
       "1     MATT JACOBSON: «Urban guys realy go wild when ...      True   4934  test  \n",
       "2              Accumulated coupon income (in currency):      True   4934  test  \n",
       "3              Accumulated coupon income (in currency):      True   4934  test  \n",
       "4     My favorite performers are Stas Mikhailov, Iri...      True   4934  test  \n",
       "...                                                 ...       ...    ...   ...  \n",
       "6663                                      这跟通讯部门有什么关系啊？      True   6741  test  \n",
       "6664                                         GANTZ很好看！！      True   6741  test  \n",
       "6665                                             环境怎么样？      True   6741  test  \n",
       "6666                                            确实是这样啊。      True   6741  test  \n",
       "6667                                         绝对是年轻的男人吧？      True   6741  test  \n",
       "\n",
       "[6668 rows x 6 columns]"
      ]
     },
     "execution_count": 1096,
     "metadata": {},
     "output_type": "execute_result"
    }
   ],
   "source": [
    "test"
   ]
  },
  {
   "cell_type": "markdown",
   "metadata": {},
   "source": [
    "**Predict the score for each test set sentence pair**"
   ]
  },
  {
   "cell_type": "code",
   "execution_count": 245,
   "metadata": {},
   "outputs": [],
   "source": [
    "#Balanced\n",
    "scores_baseline_v1 = []\n",
    "tags = []\n",
    "for index, row in test.iterrows():\n",
    "    source_embedding_baseline_v1 = model_baseline_v1.encode(row['source'], convert_to_tensor=True)\n",
    "    target_embedding_baseline_v1 = model_baseline_v1.encode(row['target'], convert_to_tensor=True)\n",
    "    score_baseline_v1 = util.pytorch_cos_sim(source_embedding_baseline_v1, target_embedding_baseline_v1)[0]\n",
    "    score_baseline_v1 = (\"%.4f\" % (score_baseline_v1))\n",
    "    scores_baseline_v1.append(score_baseline_v1)"
   ]
  },
  {
   "cell_type": "code",
   "execution_count": 1097,
   "metadata": {},
   "outputs": [],
   "source": [
    "#Imbalanced\n",
    "scores_baseline_v1 = []\n",
    "tags = []\n",
    "for index, row in test.iterrows():\n",
    "    source_embedding_baseline_v1 = model_baseline_v1.encode(row['source'], convert_to_tensor=True)\n",
    "    target_embedding_baseline_v1 = model_baseline_v1.encode(row['target'], convert_to_tensor=True)\n",
    "    score_baseline_v1 = util.pytorch_cos_sim(source_embedding_baseline_v1, target_embedding_baseline_v1)[0]\n",
    "    score_baseline_v1 = (\"%.4f\" % (1 - score_baseline_v1))\n",
    "    scores_baseline_v1.append(score_baseline_v1)"
   ]
  },
  {
   "cell_type": "code",
   "execution_count": null,
   "metadata": {},
   "outputs": [],
   "source": [
    "#Balanced\n",
    "scores_baseline_v2 = []\n",
    "tags = []\n",
    "for index, row in test.iterrows():    \n",
    "    source_embedding_baseline_v2 = model_baseline_v2.encode(row['source'], convert_to_tensor=True)\n",
    "    target_embedding_baseline_v2 = model_baseline_v2.encode(row['target'], convert_to_tensor=True)\n",
    "    score_baseline_v2 = util.pytorch_cos_sim(source_embedding_baseline_v2, target_embedding_baseline_v2)[0]\n",
    "    score_baseline_v2 = (\"%.4f\" % (score_baseline_v2))\n",
    "    scores_baseline_v2.append(score_baseline_v2)"
   ]
  },
  {
   "cell_type": "code",
   "execution_count": 1098,
   "metadata": {},
   "outputs": [],
   "source": [
    "#Imbalanced\n",
    "scores_baseline_v2 = []\n",
    "tags = []\n",
    "for index, row in test.iterrows():    \n",
    "    source_embedding_baseline_v2 = model_baseline_v2.encode(row['source'], convert_to_tensor=True)\n",
    "    target_embedding_baseline_v2 = model_baseline_v2.encode(row['target'], convert_to_tensor=True)\n",
    "    score_baseline_v2 = util.pytorch_cos_sim(source_embedding_baseline_v2, target_embedding_baseline_v2)[0]\n",
    "    score_baseline_v2 = (\"%.4f\" % (1 - score_baseline_v2))\n",
    "    scores_baseline_v2.append(score_baseline_v2)"
   ]
  },
  {
   "cell_type": "code",
   "execution_count": null,
   "metadata": {},
   "outputs": [],
   "source": [
    "#Balanced\n",
    "scores_custom = []\n",
    "tags = []\n",
    "for index, row in test.iterrows():    \n",
    "    source_embedding_custom = model_custom.encode(row['source'], convert_to_tensor=True)\n",
    "    target_embedding_custom = model_custom.encode(row['target'], convert_to_tensor=True)\n",
    "    score_custom = util.pytorch_cos_sim(source_embedding_custom, target_embedding_custom)[0]\n",
    "    score_custom = (\"%.4f\" % (score_custom))\n",
    "    scores_custom.append(score_custom)"
   ]
  },
  {
   "cell_type": "code",
   "execution_count": 1099,
   "metadata": {},
   "outputs": [],
   "source": [
    "#Imbalanced Custom\n",
    "scores_custom = []\n",
    "tags = []\n",
    "for index, row in test.iterrows():    \n",
    "    source_embedding_custom = model_custom.encode(row['source'], convert_to_tensor=True)\n",
    "    target_embedding_custom = model_custom.encode(row['target'], convert_to_tensor=True)\n",
    "    score_custom = util.pytorch_cos_sim(source_embedding_custom, target_embedding_custom)[0]\n",
    "    score_custom = (\"%.4f\" % (1 - score_custom))\n",
    "    scores_custom.append(score_custom)"
   ]
  },
  {
   "cell_type": "code",
   "execution_count": 1100,
   "metadata": {},
   "outputs": [
    {
     "name": "stdout",
     "output_type": "stream",
     "text": [
      "6668\n"
     ]
    }
   ],
   "source": [
    "#Accuracy Imbalanced\n",
    "accuracy_imb = []\n",
    "for index, row in test.iterrows():\n",
    "    if row['accuracy'] is False:\n",
    "        accuracy_imb.append(\"True\")\n",
    "    if row['accuracy'] is True:\n",
    "        accuracy_imb.append(\"False\")\n",
    "\n",
    "print(len(accuracy_imb))"
   ]
  },
  {
   "cell_type": "markdown",
   "metadata": {},
   "source": [
    "**Insert the new columns into the test set**"
   ]
  },
  {
   "cell_type": "code",
   "execution_count": 1101,
   "metadata": {},
   "outputs": [],
   "source": [
    "test.insert(loc=0, column='score_baseline_v1', value=scores_baseline_v1)"
   ]
  },
  {
   "cell_type": "code",
   "execution_count": 1102,
   "metadata": {},
   "outputs": [],
   "source": [
    "test.insert(loc=0, column='score_baseline_v2', value=scores_baseline_v2)"
   ]
  },
  {
   "cell_type": "code",
   "execution_count": 1103,
   "metadata": {},
   "outputs": [],
   "source": [
    "test.insert(loc=0, column='scores_custom', value=scores_custom)"
   ]
  },
  {
   "cell_type": "code",
   "execution_count": 1104,
   "metadata": {},
   "outputs": [],
   "source": [
    "test.insert(loc=0, column='accuracy_imb', value=accuracy_imb)"
   ]
  },
  {
   "cell_type": "code",
   "execution_count": 1105,
   "metadata": {},
   "outputs": [
    {
     "data": {
      "text/html": [
       "<div>\n",
       "<style scoped>\n",
       "    .dataframe tbody tr th:only-of-type {\n",
       "        vertical-align: middle;\n",
       "    }\n",
       "\n",
       "    .dataframe tbody tr th {\n",
       "        vertical-align: top;\n",
       "    }\n",
       "\n",
       "    .dataframe thead th {\n",
       "        text-align: right;\n",
       "    }\n",
       "</style>\n",
       "<table border=\"1\" class=\"dataframe\">\n",
       "  <thead>\n",
       "    <tr style=\"text-align: right;\">\n",
       "      <th></th>\n",
       "      <th>accuracy_imb</th>\n",
       "      <th>scores_custom</th>\n",
       "      <th>score_baseline_v2</th>\n",
       "      <th>score_baseline_v1</th>\n",
       "      <th>language_pair</th>\n",
       "      <th>source</th>\n",
       "      <th>target</th>\n",
       "      <th>accuracy</th>\n",
       "      <th>jobid</th>\n",
       "      <th>type</th>\n",
       "    </tr>\n",
       "  </thead>\n",
       "  <tbody>\n",
       "    <tr>\n",
       "      <th>0</th>\n",
       "      <td>False</td>\n",
       "      <td>0.0597</td>\n",
       "      <td>0.2787</td>\n",
       "      <td>0.2856</td>\n",
       "      <td>ru-en</td>\n",
       "      <td>Наш автосервис находится на пересечении МКАД и...</td>\n",
       "      <td>Our car service is at the crossroad of MKAD an...</td>\n",
       "      <td>True</td>\n",
       "      <td>4934</td>\n",
       "      <td>test</td>\n",
       "    </tr>\n",
       "    <tr>\n",
       "      <th>1</th>\n",
       "      <td>False</td>\n",
       "      <td>0.0484</td>\n",
       "      <td>0.1338</td>\n",
       "      <td>0.2136</td>\n",
       "      <td>ru-en</td>\n",
       "      <td>МЭТТ ДЖЕЙКОБСОН: «Когда городские ребята перес...</td>\n",
       "      <td>MATT JACOBSON: «Urban guys realy go wild when ...</td>\n",
       "      <td>True</td>\n",
       "      <td>4934</td>\n",
       "      <td>test</td>\n",
       "    </tr>\n",
       "    <tr>\n",
       "      <th>2</th>\n",
       "      <td>False</td>\n",
       "      <td>0.0127</td>\n",
       "      <td>0.1059</td>\n",
       "      <td>0.1317</td>\n",
       "      <td>ru-en</td>\n",
       "      <td>Накопленный купонный доход (в валюте):</td>\n",
       "      <td>Accumulated coupon income (in currency):</td>\n",
       "      <td>True</td>\n",
       "      <td>4934</td>\n",
       "      <td>test</td>\n",
       "    </tr>\n",
       "    <tr>\n",
       "      <th>3</th>\n",
       "      <td>False</td>\n",
       "      <td>0.0127</td>\n",
       "      <td>0.1059</td>\n",
       "      <td>0.1317</td>\n",
       "      <td>ru-en</td>\n",
       "      <td>Накопленный купонный доход (в валюте):</td>\n",
       "      <td>Accumulated coupon income (in currency):</td>\n",
       "      <td>True</td>\n",
       "      <td>4934</td>\n",
       "      <td>test</td>\n",
       "    </tr>\n",
       "    <tr>\n",
       "      <th>4</th>\n",
       "      <td>False</td>\n",
       "      <td>0.0310</td>\n",
       "      <td>0.0901</td>\n",
       "      <td>0.1453</td>\n",
       "      <td>ru-en</td>\n",
       "      <td>Мои любимые музыкальные исполнители: Стас Миха...</td>\n",
       "      <td>My favorite performers are Stas Mikhailov, Iri...</td>\n",
       "      <td>True</td>\n",
       "      <td>4934</td>\n",
       "      <td>test</td>\n",
       "    </tr>\n",
       "    <tr>\n",
       "      <th>...</th>\n",
       "      <td>...</td>\n",
       "      <td>...</td>\n",
       "      <td>...</td>\n",
       "      <td>...</td>\n",
       "      <td>...</td>\n",
       "      <td>...</td>\n",
       "      <td>...</td>\n",
       "      <td>...</td>\n",
       "      <td>...</td>\n",
       "      <td>...</td>\n",
       "    </tr>\n",
       "    <tr>\n",
       "      <th>6663</th>\n",
       "      <td>False</td>\n",
       "      <td>0.0318</td>\n",
       "      <td>0.2978</td>\n",
       "      <td>0.2742</td>\n",
       "      <td>jp-zh</td>\n",
       "      <td>通信業者 関係あります？ それ</td>\n",
       "      <td>这跟通讯部门有什么关系啊？</td>\n",
       "      <td>True</td>\n",
       "      <td>6741</td>\n",
       "      <td>test</td>\n",
       "    </tr>\n",
       "    <tr>\n",
       "      <th>6664</th>\n",
       "      <td>False</td>\n",
       "      <td>0.0187</td>\n",
       "      <td>0.3276</td>\n",
       "      <td>0.2226</td>\n",
       "      <td>jp-zh</td>\n",
       "      <td>GANTZ 良かったです！！</td>\n",
       "      <td>GANTZ很好看！！</td>\n",
       "      <td>True</td>\n",
       "      <td>6741</td>\n",
       "      <td>test</td>\n",
       "    </tr>\n",
       "    <tr>\n",
       "      <th>6665</th>\n",
       "      <td>False</td>\n",
       "      <td>0.0137</td>\n",
       "      <td>0.0327</td>\n",
       "      <td>0.0796</td>\n",
       "      <td>jp-zh</td>\n",
       "      <td>環境は どう？</td>\n",
       "      <td>环境怎么样？</td>\n",
       "      <td>True</td>\n",
       "      <td>6741</td>\n",
       "      <td>test</td>\n",
       "    </tr>\n",
       "    <tr>\n",
       "      <th>6666</th>\n",
       "      <td>False</td>\n",
       "      <td>0.0195</td>\n",
       "      <td>0.3248</td>\n",
       "      <td>0.2613</td>\n",
       "      <td>jp-zh</td>\n",
       "      <td>なるほどね。</td>\n",
       "      <td>确实是这样啊。</td>\n",
       "      <td>True</td>\n",
       "      <td>6741</td>\n",
       "      <td>test</td>\n",
       "    </tr>\n",
       "    <tr>\n",
       "      <th>6667</th>\n",
       "      <td>False</td>\n",
       "      <td>0.0085</td>\n",
       "      <td>0.0381</td>\n",
       "      <td>0.0977</td>\n",
       "      <td>jp-zh</td>\n",
       "      <td>絶対 若い 男ですよ？</td>\n",
       "      <td>绝对是年轻的男人吧？</td>\n",
       "      <td>True</td>\n",
       "      <td>6741</td>\n",
       "      <td>test</td>\n",
       "    </tr>\n",
       "  </tbody>\n",
       "</table>\n",
       "<p>6668 rows × 10 columns</p>\n",
       "</div>"
      ],
      "text/plain": [
       "     accuracy_imb scores_custom score_baseline_v2 score_baseline_v1  \\\n",
       "0           False        0.0597            0.2787            0.2856   \n",
       "1           False        0.0484            0.1338            0.2136   \n",
       "2           False        0.0127            0.1059            0.1317   \n",
       "3           False        0.0127            0.1059            0.1317   \n",
       "4           False        0.0310            0.0901            0.1453   \n",
       "...           ...           ...               ...               ...   \n",
       "6663        False        0.0318            0.2978            0.2742   \n",
       "6664        False        0.0187            0.3276            0.2226   \n",
       "6665        False        0.0137            0.0327            0.0796   \n",
       "6666        False        0.0195            0.3248            0.2613   \n",
       "6667        False        0.0085            0.0381            0.0977   \n",
       "\n",
       "     language_pair                                             source  \\\n",
       "0            ru-en  Наш автосервис находится на пересечении МКАД и...   \n",
       "1            ru-en  МЭТТ ДЖЕЙКОБСОН: «Когда городские ребята перес...   \n",
       "2            ru-en             Накопленный купонный доход (в валюте):   \n",
       "3            ru-en             Накопленный купонный доход (в валюте):   \n",
       "4            ru-en  Мои любимые музыкальные исполнители: Стас Миха...   \n",
       "...            ...                                                ...   \n",
       "6663         jp-zh                                    通信業者 関係あります？ それ   \n",
       "6664         jp-zh                                     GANTZ 良かったです！！   \n",
       "6665         jp-zh                                            環境は どう？   \n",
       "6666         jp-zh                                             なるほどね。   \n",
       "6667         jp-zh                                        絶対 若い 男ですよ？   \n",
       "\n",
       "                                                 target  accuracy  jobid  type  \n",
       "0     Our car service is at the crossroad of MKAD an...      True   4934  test  \n",
       "1     MATT JACOBSON: «Urban guys realy go wild when ...      True   4934  test  \n",
       "2              Accumulated coupon income (in currency):      True   4934  test  \n",
       "3              Accumulated coupon income (in currency):      True   4934  test  \n",
       "4     My favorite performers are Stas Mikhailov, Iri...      True   4934  test  \n",
       "...                                                 ...       ...    ...   ...  \n",
       "6663                                      这跟通讯部门有什么关系啊？      True   6741  test  \n",
       "6664                                         GANTZ很好看！！      True   6741  test  \n",
       "6665                                             环境怎么样？      True   6741  test  \n",
       "6666                                            确实是这样啊。      True   6741  test  \n",
       "6667                                         绝对是年轻的男人吧？      True   6741  test  \n",
       "\n",
       "[6668 rows x 10 columns]"
      ]
     },
     "execution_count": 1105,
     "metadata": {},
     "output_type": "execute_result"
    }
   ],
   "source": [
    "test"
   ]
  },
  {
   "cell_type": "markdown",
   "metadata": {},
   "source": [
    "### Evaluation: Baseline v1 x Baseline v2"
   ]
  },
  {
   "cell_type": "markdown",
   "metadata": {},
   "source": [
    "**Create numpy arrays for the ground truth and models predicitons**"
   ]
  },
  {
   "cell_type": "code",
   "execution_count": 1106,
   "metadata": {},
   "outputs": [],
   "source": [
    "#accuracy = test['accuracy'].apply(str).values.tolist()\n",
    "accuracy = test['accuracy_imb'].apply(str).values.tolist()\n",
    "score_baseline_v1 = test['score_baseline_v1'].values.tolist()\n",
    "score_baseline_v2 = test['score_baseline_v2'].values.tolist()\n",
    "score_custom = test['scores_custom'].values.tolist()\n",
    "\n",
    "#Balanced scenario\n",
    "#Good Translation = True = 1\n",
    "#Bad Translation = False = 0\n",
    "label2int = {'False': 0, 'True': 1}\n",
    "\n",
    "y = np.array([label2int[label] for label in accuracy])\n",
    "pred_baseline_v1 = np.array([float(score_v1) for score_v1 in score_baseline_v1])\n",
    "pred_baseline_v2 = np.array([float(score_v2) for score_v2 in score_baseline_v2])\n",
    "pred_custom = np.array([float(score_c) for score_c in score_custom])"
   ]
  },
  {
   "cell_type": "markdown",
   "metadata": {},
   "source": [
    "**AUC - ROC Curve**"
   ]
  },
  {
   "cell_type": "markdown",
   "metadata": {},
   "source": [
    "An ROC curve (receiver operating characteristic curve) is a graph showing the performance of a classification model at all classification thresholds. This curve plots two parameters:\n",
    "\n",
    "* True Positive Rate\n",
    "* False Positive Rate\n",
    "\n",
    "True Positive Rate (TPR) is a synonym for recall and is therefore defined as follows:\n",
    "* TPR = TP / TP + FN\n",
    "\n",
    "False Positive Rate (FPR) is defined as follows:\n",
    "* FPR = FP / FP + TN\n",
    "\n",
    "Here we have the AUC - ROC curve calculations (TPR, FPR, Thresholds) for our fine-tuned model and our baseline."
   ]
  },
  {
   "cell_type": "markdown",
   "metadata": {},
   "source": [
    "**Baseline v1 model**"
   ]
  },
  {
   "cell_type": "code",
   "execution_count": 1107,
   "metadata": {},
   "outputs": [],
   "source": [
    "fpr_baseline_v1, tpr_baseline_v1, thresholds_baseline_v1 = metrics.roc_curve(y, pred_baseline_v1, pos_label=1)\n",
    "roc_auc_baseline_v1 = metrics.auc(fpr_baseline_v1, tpr_baseline_v1)"
   ]
  },
  {
   "cell_type": "code",
   "execution_count": 1108,
   "metadata": {},
   "outputs": [
    {
     "data": {
      "image/png": "[encoded data removed]",
      "text/plain": [
       "<Figure size 432x288 with 1 Axes>"
      ]
     },
     "metadata": {
      "needs_background": "light"
     },
     "output_type": "display_data"
    }
   ],
   "source": [
    "plt.title('ROC Baseline v1 model')\n",
    "plt.plot(fpr_baseline_v1, tpr_baseline_v1, 'b', label = 'AUC = %0.2f' % roc_auc_baseline_v1)\n",
    "plt.legend(loc = 'lower right')\n",
    "plt.plot([0, 1], [0, 1],'r--')\n",
    "plt.xlim([0, 1])\n",
    "plt.ylim([0, 1])\n",
    "plt.ylabel('Sensitivity (True Positive Rate)')\n",
    "plt.xlabel('1 - Specificity (False Positive Rate)')\n",
    "plt.show()"
   ]
  },
  {
   "cell_type": "markdown",
   "metadata": {},
   "source": [
    "**Baseline v2 model**"
   ]
  },
  {
   "cell_type": "code",
   "execution_count": 1109,
   "metadata": {},
   "outputs": [],
   "source": [
    "fpr_baseline_v2, tpr_baseline_v2, thresholds_baseline_v2 = metrics.roc_curve(y, pred_baseline_v2, pos_label=1)\n",
    "roc_auc_baseline_v2 = metrics.auc(fpr_baseline_v2, tpr_baseline_v2)"
   ]
  },
  {
   "cell_type": "code",
   "execution_count": 1110,
   "metadata": {},
   "outputs": [
    {
     "data": {
      "image/png": "[encoded data removed]",
      "text/plain": [
       "<Figure size 432x288 with 1 Axes>"
      ]
     },
     "metadata": {
      "needs_background": "light"
     },
     "output_type": "display_data"
    }
   ],
   "source": [
    "plt.title('ROC Baseline v2 model')\n",
    "plt.plot(fpr_baseline_v2, tpr_baseline_v2, 'b', label = 'AUC = %0.2f' % roc_auc_baseline_v2)\n",
    "plt.legend(loc = 'lower right')\n",
    "plt.plot([0, 1], [0, 1],'r--')\n",
    "plt.xlim([0, 1])\n",
    "plt.ylim([0, 1])\n",
    "plt.ylabel('Sensitivity (True Positive Rate)')\n",
    "plt.xlabel('1 - Specificity (False Positive Rate)')\n",
    "plt.show()"
   ]
  },
  {
   "cell_type": "code",
   "execution_count": 1111,
   "metadata": {},
   "outputs": [],
   "source": [
    "fpr_custom, tpr_custom, thresholds_custom = metrics.roc_curve(y, pred_custom, pos_label=1)\n",
    "roc_auc_custom = metrics.auc(fpr_custom, tpr_custom)"
   ]
  },
  {
   "cell_type": "code",
   "execution_count": 1112,
   "metadata": {},
   "outputs": [
    {
     "data": {
      "image/png": "[encoded data removed]",
      "text/plain": [
       "<Figure size 432x288 with 1 Axes>"
      ]
     },
     "metadata": {
      "needs_background": "light"
     },
     "output_type": "display_data"
    }
   ],
   "source": [
    "plt.title('ROC Custom model')\n",
    "plt.plot(fpr_custom, tpr_custom, 'b', label = 'AUC = %0.2f' % roc_auc_custom)\n",
    "plt.legend(loc = 'lower right')\n",
    "plt.plot([0, 1], [0, 1],'r--')\n",
    "plt.xlim([0, 1])\n",
    "plt.ylim([0, 1])\n",
    "plt.ylabel('Sensitivity (True Positive Rate)')\n",
    "plt.xlabel('1 - Specificity (False Positive Rate)')\n",
    "plt.show()"
   ]
  },
  {
   "cell_type": "markdown",
   "metadata": {},
   "source": [
    "In the AUC - ROC Curve, the top left corner of the plot is the “ideal” point - a false positive rate of zero, and a true positive rate of one. The red line is a ramdom classifier.\n",
    "\n",
    "A larger area under the curve (AUC) is usually better."
   ]
  },
  {
   "cell_type": "markdown",
   "metadata": {},
   "source": [
    "**Precision Recall Curve**\n",
    "\n",
    "**Baseline v1 model**"
   ]
  },
  {
   "cell_type": "code",
   "execution_count": null,
   "metadata": {},
   "outputs": [],
   "source": [
    "prec_baseline_v1, recall_baseline_v1, _ = metrics.precision_recall_curve(y, pred_baseline_v1, pos_label=1)\n",
    "pr_display_baseline_v1 = metrics.PrecisionRecallDisplay(precision=prec_baseline_v1, recall=recall_baseline_v1).plot()\n",
    "average_precision = metrics.average_precision_score(y, pred_baseline_v1)\n",
    "print('Average precision-recall score: {0:0.2f}'.format(average_precision))"
   ]
  },
  {
   "cell_type": "code",
   "execution_count": null,
   "metadata": {},
   "outputs": [],
   "source": [
    "# F-MEASURE\n",
    "# calculate roc curves\n",
    "precision_v1, recall_v1, thresholds_v1 = metrics.precision_recall_curve(y, pred_baseline_v1)\n",
    "# convert to f score\n",
    "fscore_v1 = 2 * (precision_v1 * recall_v1) / (precision_v1 + recall_v1)\n",
    "fscore_v1 = [a for a in fscore_v1 if ~np.isnan(a)]\n",
    "# locate the index of the largest f score\n",
    "ix_v1 = np.argmax(fscore_v1)\n",
    "optimal_threshold_baseline_v1 = thresholds_v1[ix_v1]\n",
    "print('Best Threshold=%f, F-Score=%.3f' % (optimal_threshold_baseline_v1, fscore_v1[ix_v1]))\n",
    "# plot the roc curve for the model\n",
    "no_skill = len(y[y==1]) / len(y)\n",
    "plt.plot([0,1], [no_skill,no_skill], linestyle='--', label='No Skill')\n",
    "plt.plot(recall_v1, precision_v1, marker='.', label='v1')\n",
    "plt.scatter(recall_v1[ix_v1], precision_v1[ix_v1], marker='o', color='black', label='Best')\n",
    "# axis labels\n",
    "plt.xlabel('Recall')\n",
    "plt.ylabel('Precision')\n",
    "plt.legend()\n",
    "# show the plot\n",
    "plt.show()"
   ]
  },
  {
   "cell_type": "code",
   "execution_count": null,
   "metadata": {},
   "outputs": [],
   "source": [
    "prec_baseline_v2, recall_baseline_v2, _ = metrics.precision_recall_curve(y, pred_baseline_v2, pos_label=1)\n",
    "pr_display_baseline_v2 = metrics.PrecisionRecallDisplay(precision=prec_baseline_v2, recall=recall_baseline_v2).plot()\n",
    "average_precision = metrics.average_precision_score(y, pred_baseline_v2)\n",
    "print('Average precision-recall score: {0:0.2f}'.format(average_precision))"
   ]
  },
  {
   "cell_type": "code",
   "execution_count": null,
   "metadata": {},
   "outputs": [],
   "source": [
    "# F-MEASURE\n",
    "# calculate roc curves\n",
    "precision_v2, recall_v2, thresholds_v2 = metrics.precision_recall_curve(y, pred_baseline_v2)\n",
    "# convert to f score\n",
    "fscore_v2 = 2 * (precision_v2 * recall_v2) / (precision_v2 + recall_v2)\n",
    "fscore_v2 = [a for a in fscore_v2 if ~np.isnan(a)]\n",
    "# locate the index of the largest f score\n",
    "ix_v2 = np.argmax(fscore_v2)\n",
    "optimal_threshold_baseline_v2 = thresholds_v2[ix_v2]\n",
    "print('Best Threshold=%f, F-Score=%.3f' % (optimal_threshold_baseline_v2, fscore_v2[ix_v2]))\n",
    "# plot the roc curve for the model\n",
    "no_skill = len(y[y==1]) / len(y)\n",
    "plt.plot([0,1], [no_skill,no_skill], linestyle='--', label='No Skill')\n",
    "plt.plot(recall_v2, precision_v2, marker='.', label='v2')\n",
    "plt.scatter(recall_v2[ix_v2], precision_v2[ix_v2], marker='o', color='black', label='Best')\n",
    "# axis labels\n",
    "plt.xlabel('Recall')\n",
    "plt.ylabel('Precision')\n",
    "plt.legend()\n",
    "# show the plot\n",
    "plt.show()"
   ]
  },
  {
   "cell_type": "markdown",
   "metadata": {},
   "source": [
    "The precision-recall curve shows the tradeoff between precision and recall for different threshold. A high area under the curve represents both high recall and high precision, where high precision relates to a low false positive rate, and high recall relates to a low false negative rate."
   ]
  },
  {
   "cell_type": "markdown",
   "metadata": {},
   "source": [
    "### The optimal threshold"
   ]
  },
  {
   "cell_type": "markdown",
   "metadata": {},
   "source": [
    "**The Optimal threshold maximizes the difference between the True Positive Rate and the False Positive Rate**"
   ]
  },
  {
   "cell_type": "code",
   "execution_count": null,
   "metadata": {},
   "outputs": [],
   "source": [
    "optimal_idx_baseline_v1 = np.argmax(tpr_baseline_v1 - fpr_baseline_v1)\n",
    "optimal_threshold_baseline_v1 = thresholds_baseline_v1[optimal_idx_baseline_v1]\n",
    "print(\"Baseline v1 model Threshold value is:\", optimal_threshold_baseline_v1)"
   ]
  },
  {
   "cell_type": "code",
   "execution_count": null,
   "metadata": {},
   "outputs": [],
   "source": [
    "# calculate the g-mean for each threshold\n",
    "gmeans_v1 = sqrt(tpr_baseline_v1 * (1-fpr_baseline_v1))\n",
    "# locate the index of the largest g-mean\n",
    "ix_v1 = np.argmax(gmeans_v1)\n",
    "optimal_threshold_baseline_v1 = thresholds_baseline_v1[ix_v1]\n",
    "print('Best Threshold=%f, G-Mean=%.3f' % (optimal_threshold_baseline_v1, gmeans_v1[ix_v1]))"
   ]
  },
  {
   "cell_type": "code",
   "execution_count": null,
   "metadata": {},
   "outputs": [],
   "source": [
    "plt.title('ROC Baseline v1 model')\n",
    "plt.plot(fpr_baseline_v1, tpr_baseline_v1, 'b', label = 'AUC = %0.2f' % roc_auc_baseline_v1)\n",
    "plt.scatter(fpr_baseline_v1[ix_v1], tpr_baseline_v1[ix_v1], marker='o', color='black', label='Best')\n",
    "plt.legend(loc = 'lower right')\n",
    "plt.plot([0, 1], [0, 1],'r--')\n",
    "plt.xlim([0, 1])\n",
    "plt.ylim([0, 1])\n",
    "plt.ylabel('Sensitivity (True Positive Rate)')\n",
    "plt.xlabel('1 - Specificity (False Positive Rate)')\n",
    "plt.show()"
   ]
  },
  {
   "cell_type": "code",
   "execution_count": null,
   "metadata": {},
   "outputs": [],
   "source": [
    "optimal_idx_baseline_v2 = np.argmax(tpr_baseline_v2 - fpr_baseline_v2)\n",
    "optimal_threshold_baseline_v2 = thresholds_baseline_v2[optimal_idx_baseline_v2]\n",
    "print(\"Baseline v2 model Threshold value is:\", optimal_threshold_baseline_v2)"
   ]
  },
  {
   "cell_type": "code",
   "execution_count": null,
   "metadata": {},
   "outputs": [],
   "source": [
    "# calculate the g-mean for each threshold\n",
    "gmeans_v2 = sqrt(tpr_baseline_v2 * (1-fpr_baseline_v2))\n",
    "# locate the index of the largest g-mean\n",
    "ix_v2 = np.argmax(gmeans_v2)\n",
    "optimal_threshold_baseline_v2 = thresholds_baseline_v1[ix_v2]\n",
    "print('Best Threshold=%f, G-Mean=%.3f' % (optimal_threshold_baseline_v2, gmeans_v2[ix_v2]))"
   ]
  },
  {
   "cell_type": "code",
   "execution_count": null,
   "metadata": {},
   "outputs": [],
   "source": [
    "plt.title('ROC Baseline v2 model')\n",
    "plt.plot(fpr_baseline_v2, tpr_baseline_v2, 'b', label = 'AUC = %0.2f' % roc_auc_baseline_v2)\n",
    "plt.scatter(fpr_baseline_v2[ix_v2], tpr_baseline_v2[ix_v2], marker='o', color='black', label='Best')\n",
    "plt.legend(loc = 'lower right')\n",
    "plt.plot([0, 1], [0, 1],'r--')\n",
    "plt.xlim([0, 1])\n",
    "plt.ylim([0, 1])\n",
    "plt.ylabel('Sensitivity (True Positive Rate)')\n",
    "plt.xlabel('1 - Specificity (False Positive Rate)')\n",
    "plt.show()"
   ]
  },
  {
   "cell_type": "markdown",
   "metadata": {},
   "source": [
    "### Classifier"
   ]
  },
  {
   "cell_type": "markdown",
   "metadata": {},
   "source": [
    "Here we will classify the sentence pairs that have a **accuracy** label in our test set (accuracy: **Is the meaning of the source conveyed?**) in a binary way (**true** or **false**). **True** if the cosine similarity score is above the **optimal threshold** and **False** otherwise."
   ]
  },
  {
   "cell_type": "code",
   "execution_count": null,
   "metadata": {},
   "outputs": [],
   "source": [
    "tags_baseline_v1 = []\n",
    "tags_baseline_v2 = []\n",
    "for index, row in test.iterrows():  \n",
    "    tag_baseline_v1 = get_class(float(row['score_baseline_v1']), optimal_threshold_baseline_v1)\n",
    "    tags_baseline_v1.append(tag_baseline_v1)\n",
    "    tag_baseline_v2 = get_class(float(row['score_baseline_v2']), optimal_threshold_baseline_v2)\n",
    "    tags_baseline_v2.append(tag_baseline_v2)"
   ]
  },
  {
   "cell_type": "markdown",
   "metadata": {},
   "source": [
    "Insert the new columns into the test set"
   ]
  },
  {
   "cell_type": "code",
   "execution_count": null,
   "metadata": {},
   "outputs": [],
   "source": [
    "test.insert(loc=0, column='accuracy_baseline_v1', value=tags_baseline_v1)\n",
    "test.insert(loc=0, column='accuracy_baseline_v2', value=tags_baseline_v2)"
   ]
  },
  {
   "cell_type": "code",
   "execution_count": null,
   "metadata": {},
   "outputs": [],
   "source": [
    "test"
   ]
  },
  {
   "cell_type": "markdown",
   "metadata": {},
   "source": [
    "Here, we will use the scikit-learn library to calculate some common metrics, such as Accuracy, Recall and F1 score.\n",
    "\n",
    "Binary Classes\n",
    "- False: bad translation\n",
    "- True: good translation"
   ]
  },
  {
   "cell_type": "code",
   "execution_count": null,
   "metadata": {},
   "outputs": [],
   "source": [
    "#test['accuracy'] = test['accuracy'].apply(str)\n",
    "test['accuracy_imb'] = test['accuracy_imb'].apply(str)\n",
    "test['accuracy_baseline_v1'] = test['accuracy_baseline_v1'].apply(str)\n",
    "test['accuracy_baseline_v2'] = test['accuracy_baseline_v2'].apply(str)\n",
    "\n",
    "#accuracy = test['accuracy'].values.tolist()\n",
    "accuracy = test['accuracy_imb'].values.tolist()\n",
    "accuracy_baseline_v1 = test['accuracy_baseline_v1'].values.tolist()\n",
    "accuracy_baseline_v2 = test['accuracy_baseline_v2'].values.tolist()\n",
    "\n",
    "#target_names = ['bad translation', 'good translation']\n",
    "target_names = ['good translation', 'bad translation']"
   ]
  },
  {
   "cell_type": "markdown",
   "metadata": {},
   "source": [
    "**Confusion Matrix**"
   ]
  },
  {
   "cell_type": "markdown",
   "metadata": {},
   "source": [
    "The confusion matrix shows us how the classification occurred in each class and how many are:\n",
    "\n",
    "- True Positives (model predicted **1 = True = good translation** and it is the right class)\n",
    "- True Negatives (model predicted **0 = False = bad translation** and it is the right class)\n",
    "- False Positives (model predicted **1 = True = good translation** and it is not the right class)\n",
    "- False Negatives (model predicted **0 = False = bad translation** and it is not the right class).\n",
    "\n",
    "Imbalanced\n",
    "\n",
    "- True Positives (model predicted **1 = True = bad translation** and it is the right class)\n",
    "- True Negatives (model predicted **0 = False = good translation** and it is the right class)\n",
    "- False Positives (model predicted **1 = True = bad translation** and it is not the right class)\n",
    "- False Negatives (model predicted **0 = False = good translation** and it is not the right class)."
   ]
  },
  {
   "cell_type": "markdown",
   "metadata": {},
   "source": [
    "**Baseline v1 model**"
   ]
  },
  {
   "cell_type": "code",
   "execution_count": null,
   "metadata": {},
   "outputs": [],
   "source": [
    "print(metrics.classification_report(accuracy, accuracy_baseline_v1, target_names=target_names))"
   ]
  },
  {
   "cell_type": "code",
   "execution_count": null,
   "metadata": {},
   "outputs": [],
   "source": [
    "metrics.precision_score(accuracy, accuracy_baseline_v1, average='weighted')"
   ]
  },
  {
   "cell_type": "code",
   "execution_count": null,
   "metadata": {},
   "outputs": [],
   "source": [
    "metrics.recall_score(accuracy, accuracy_baseline_v1, average='weighted')"
   ]
  },
  {
   "cell_type": "code",
   "execution_count": null,
   "metadata": {},
   "outputs": [],
   "source": [
    "metrics.f1_score(accuracy, accuracy_baseline_v1, average='weighted')"
   ]
  },
  {
   "cell_type": "code",
   "execution_count": null,
   "metadata": {},
   "outputs": [],
   "source": [
    "cm = metrics.confusion_matrix(accuracy, accuracy_baseline_v1)\n",
    "cm_display = metrics.ConfusionMatrixDisplay(cm).plot()"
   ]
  },
  {
   "cell_type": "code",
   "execution_count": null,
   "metadata": {},
   "outputs": [],
   "source": [
    "tn_baseline_v1, fp_baseline_v1, fn_baseline_v1, tp_baseline_v1 = metrics.confusion_matrix(accuracy, accuracy_baseline_v1).ravel()\n",
    "print(\"True positives: \", tp_baseline_v1)\n",
    "print(\"True negatives: \", tn_baseline_v1)\n",
    "print(\"False positives: \", fp_baseline_v1)\n",
    "print(\"False negatives: \", fn_baseline_v1)"
   ]
  },
  {
   "cell_type": "markdown",
   "metadata": {},
   "source": [
    "Recall or Sensitivity (TPR)\n",
    "\n",
    "The good translation recall is 0.44 (143/(179+143)), meaning that the model correctly predicts that a translation is good 44% of the time.\n",
    "\n",
    "Specificity (TNR)\n",
    "\n",
    "The bad translation recall is 0.74 (239/(83+239)), meaning that the model correctly predicts that a translation is bad 74% of the time.\n",
    "\n",
    "Precision\n",
    "\n",
    "The bad translation precision is 0.57 (239/(179+239)). In other words, when the model predicted a bad translation, it was correct 57% of the time. \n",
    "\n",
    "The good translation precision is 0.63 (143/(83+143)). In other words, when the model predicted a good translation, it was correct 63% of the time. "
   ]
  },
  {
   "cell_type": "markdown",
   "metadata": {},
   "source": [
    "**Baseline v2 model**"
   ]
  },
  {
   "cell_type": "code",
   "execution_count": null,
   "metadata": {},
   "outputs": [],
   "source": [
    "print(metrics.classification_report(accuracy, accuracy_baseline_v2, target_names=target_names))"
   ]
  },
  {
   "cell_type": "code",
   "execution_count": null,
   "metadata": {},
   "outputs": [],
   "source": [
    "metrics.precision_score(accuracy, accuracy_baseline_v2, average='weighted')"
   ]
  },
  {
   "cell_type": "code",
   "execution_count": null,
   "metadata": {},
   "outputs": [],
   "source": [
    "metrics.recall_score(accuracy, accuracy_baseline_v2, average='weighted')"
   ]
  },
  {
   "cell_type": "code",
   "execution_count": null,
   "metadata": {},
   "outputs": [],
   "source": [
    "metrics.f1_score(accuracy, accuracy_baseline_v2, average='weighted')"
   ]
  },
  {
   "cell_type": "code",
   "execution_count": null,
   "metadata": {},
   "outputs": [],
   "source": [
    "cm = metrics.confusion_matrix(accuracy, accuracy_baseline_v1)\n",
    "cm_display = metrics.ConfusionMatrixDisplay(cm).plot()"
   ]
  },
  {
   "cell_type": "code",
   "execution_count": null,
   "metadata": {},
   "outputs": [],
   "source": [
    "tn_baseline_v2, fp_baseline_v2, fn_baseline_v2, tp_baseline_v2 = metrics.confusion_matrix(accuracy, accuracy_baseline_v2).ravel()\n",
    "print(\"True positives: \", tp_baseline_v2)\n",
    "print(\"True negatives: \", tn_baseline_v2)\n",
    "print(\"False positives: \", fp_baseline_v2)\n",
    "print(\"False negatives: \", fn_baseline_v2)"
   ]
  },
  {
   "cell_type": "code",
   "execution_count": null,
   "metadata": {},
   "outputs": [],
   "source": []
  }
 ],
 "metadata": {
  "kernelspec": {
   "display_name": "Python 3",
   "language": "python",
   "name": "python3"
  },
  "language_info": {
   "codemirror_mode": {
    "name": "ipython",
    "version": 3
   },
   "file_extension": ".py",
   "mimetype": "text/x-python",
   "name": "python",
   "nbconvert_exporter": "python",
   "pygments_lexer": "ipython3",
   "version": "3.8.5"
  }
 },
 "nbformat": 4,
 "nbformat_minor": 4
}
